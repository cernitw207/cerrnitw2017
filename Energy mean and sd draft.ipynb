{
 "cells": [
  {
   "cell_type": "markdown",
   "metadata": {
    "collapsed": true
   },
   "source": [
    "# Calculating relativistic energy \n",
    "\n",
    "\n",
    "\n",
    "Introduction:\n",
    "\n",
    "In this activity pupils are going to calculate relativistic energy, mean ,standard deviation and make a historam for their results. The data comes from S'cool lab https://scool.web.cern.ch/ (original folder contains 70MB of data) but has been modified to 25MB and contains only x,y and z momentum measurements (in order to modify the original folder use 'open and delete columns.ipynb' tutorial).\n",
    "\n",
    "\n",
    "This activity was created during International Teacher Weeks in CERN in 2017 and fits into what has been done so far:https://github.com/cms-opendata-education/cms-jupyter-materials-english\n",
    "\n",
    "What is needed for the activity:\n",
    "\n",
    "- relativistic energy formula : E^2 = (p*c)^2 + (m*c^2)^2\n",
    "- understanding of 'mean, standard deviation' \n",
    "    \n",
    "- Jupiter notebook https://www.continuum.io/downloads \n",
    "- Python 2 or Python 3\n",
    "- basic operators in python: https://www.learnpython.org/en/Basic_Operators\n",
    "\n"
   ]
  },
  {
   "cell_type": "markdown",
   "metadata": {},
   "source": [
    "In the cell below we use 'import' function to open a library to save it as 'pd', 'np', 'plt'. \n",
    "Libraries contain a variety of functions that help us with the task. "
   ]
  },
  {
   "cell_type": "code",
   "execution_count": null,
   "metadata": {
    "collapsed": true
   },
   "outputs": [],
   "source": [
    "import pandas as pd\n",
    "import numpy as np\n",
    "import matplotlib.pyplot as plt\n",
    "%matplotlib inline"
   ]
  },
  {
   "cell_type": "markdown",
   "metadata": {},
   "source": [
    "Below, we open 'newFile.csv' and save it as 'dataset'. Then we display the top of he file."
   ]
  },
  {
   "cell_type": "code",
   "execution_count": null,
   "metadata": {},
   "outputs": [],
   "source": [
    "dataset = pd.read_csv('C:\\cern data/newFile.csv')\n",
    "dataset.head()"
   ]
  },
  {
   "cell_type": "markdown",
   "metadata": {},
   "source": [
    "Bewlow, we compute the relativistic energy for particle 1. Pupils should be able to code the formula by themselves with a little: https://www.learnpython.org/en/Basic_Operators or no help (depending on their coding skills)."
   ]
  },
  {
   "cell_type": "code",
   "execution_count": null,
   "metadata": {},
   "outputs": [],
   "source": [
    "E = ((dataset.px1**2 + dataset.py1**2 + dataset.pz1**2) + (105.7 *10**(-3))**2)**0.5"
   ]
  },
  {
   "cell_type": "markdown",
   "metadata": {
    "collapsed": true
   },
   "source": [
    "Optional // A program that asks the user for a - range from 0 to a ; b - amount of bars in the histogram."
   ]
  },
  {
   "cell_type": "code",
   "execution_count": null,
   "metadata": {},
   "outputs": [],
   "source": [
    "a = raw_input('Enter the energy range:')\n",
    "b = raw_input('Enter the amount of bars:')\n",
    "\n",
    "try:\n",
    "    a = int(a)\n",
    "    b = int(b)\n",
    "except:\n",
    "    print ('Enter whole numbers only')"
   ]
  },
  {
   "cell_type": "markdown",
   "metadata": {},
   "source": [
    "Drawing the histogram (we are using the matplot library previously saved as plt) using the input from the user (a and b)"
   ]
  },
  {
   "cell_type": "code",
   "execution_count": null,
   "metadata": {
    "collapsed": true
   },
   "outputs": [],
   "source": [
    "plt.hist(E, bins = b, range=(0,a))\n",
    "plt.xlabel('Energy')\n",
    "plt.ylabel('Event')\n",
    "plt.title('The histogram of the energy of parrtticle 1')\n",
    "plt.show()"
   ]
  },
  {
   "cell_type": "markdown",
   "metadata": {},
   "source": [
    "Below, we are going to use numpy library saved as np. Use of this library is optional and also depends on students' coding skills (ideally they could code a mean function by themselves using 'def'). A broader guide to this activity can be found here: https://github.com/cms-opendata-education/cms-jupyter-materials-english/blob/master/Exercises-with-open-data/Statistics.ipynb"
   ]
  },
  {
   "cell_type": "code",
   "execution_count": null,
   "metadata": {},
   "outputs": [],
   "source": [
    "mean_energy = np.mean(E)\n",
    "print(mean_energy)"
   ]
  },
  {
   "cell_type": "code",
   "execution_count": null,
   "metadata": {},
   "outputs": [],
   "source": [
    "variance = np.var(E)\n",
    "print(variance)"
   ]
  },
  {
   "cell_type": "code",
   "execution_count": null,
   "metadata": {},
   "outputs": [],
   "source": [
    "peak_variance = np.var(mean_energy)\n",
    "print(peak_variance)"
   ]
  },
  {
   "cell_type": "code",
   "execution_count": null,
   "metadata": {},
   "outputs": [],
   "source": [
    "sd = np.sqrt(variance)\n",
    "print(sd)"
   ]
  },
  {
   "cell_type": "code",
   "execution_count": null,
   "metadata": {},
   "outputs": [],
   "source": [
    "sd_peak = np.sqrt(peak_variance)\n",
    "print(sd_peak)"
   ]
  }
 ],
 "metadata": {
  "kernelspec": {
   "display_name": "Python 2",
   "language": "python",
   "name": "python2"
  },
  "language_info": {
   "codemirror_mode": {
    "name": "ipython",
    "version": 2
   },
   "file_extension": ".py",
   "mimetype": "text/x-python",
   "name": "python",
   "nbconvert_exporter": "python",
   "pygments_lexer": "ipython2",
   "version": "2.7.13"
  }
 },
 "nbformat": 4,
 "nbformat_minor": 2
}
