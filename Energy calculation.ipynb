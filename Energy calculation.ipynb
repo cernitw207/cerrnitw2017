{
 "cells": [
  {
   "cell_type": "markdown",
   "metadata": {
    "collapsed": true
   },
   "source": [
    "# Calculating relativistic energy \n",
    "\n",
    "\n",
    "\n",
    "Introduction:\n",
    "\n",
    "In this activity pupils are going to calculate relativistic energy, make a historam for their results and compare their calculated value to the values obtained by CERN in 'energy_compare.csv' file. All the data comes from S'cool lab https://scool.web.cern.ch/ (original folder contains 70MB of data) but has been modified to 25MB and contains only x,y and z momentum measurements. In order to modify the original file use 'open and delete columns.ipynb' tutorial. \n",
    "\n",
    "\n",
    "This activity was created during International Teacher Weeks in CERN in 2017 and could be used as a starting point for data analysis tasks :https://github.com/cms-opendata-education/cms-jupyter-materials-english\n",
    "\n",
    "What is needed for the activity:\n",
    "\n",
    "- relativistic energy formula : E^2 = (p*c)^2 + (m*c^2)^2\n",
    "- understanding of 'mean, standard deviation'     \n",
    "- Jupiter notebook https://www.continuum.io/downloads \n",
    "- Python 2 or Python 3\n",
    "- basic operators in python: https://www.learnpython.org/en/Basic_Operators\n",
    "- download DoubleMu momentum only.csv and energy_compare.csv files\n",
    "\n"
   ]
  },
  {
   "cell_type": "markdown",
   "metadata": {},
   "source": [
    "In the cell below we use 'import' function to open a library and call it later as 'pd', 'np', 'plt'. \n",
    "Libraries contain a variety of functions that help us with the task. "
   ]
  },
  {
   "cell_type": "code",
   "execution_count": 1,
   "metadata": {},
   "outputs": [],
   "source": [
    "import pandas as pd\n",
    "import numpy as np\n",
    "import matplotlib.pyplot as plt\n",
    "%matplotlib inline"
   ]
  },
  {
   "cell_type": "markdown",
   "metadata": {},
   "source": [
    "Below, we open 'newFile.csv' and call it 'dataset'. Then we display the top of he file."
   ]
  },
  {
   "cell_type": "code",
   "execution_count": 2,
   "metadata": {},
   "outputs": [
    {
     "data": {
      "text/html": [
       "<div>\n",
       "<style>\n",
       "    .dataframe thead tr:only-child th {\n",
       "        text-align: right;\n",
       "    }\n",
       "\n",
       "    .dataframe thead th {\n",
       "        text-align: left;\n",
       "    }\n",
       "\n",
       "    .dataframe tbody tr th {\n",
       "        vertical-align: top;\n",
       "    }\n",
       "</style>\n",
       "<table border=\"1\" class=\"dataframe\">\n",
       "  <thead>\n",
       "    <tr style=\"text-align: right;\">\n",
       "      <th></th>\n",
       "      <th>px1</th>\n",
       "      <th>py1</th>\n",
       "      <th>pz1</th>\n",
       "      <th>px2</th>\n",
       "      <th>py2</th>\n",
       "      <th>pz2</th>\n",
       "    </tr>\n",
       "  </thead>\n",
       "  <tbody>\n",
       "    <tr>\n",
       "      <th>0</th>\n",
       "      <td>-9.510430</td>\n",
       "      <td>0.366205</td>\n",
       "      <td>1.86329</td>\n",
       "      <td>7.327710</td>\n",
       "      <td>-1.152370</td>\n",
       "      <td>6.34728</td>\n",
       "    </tr>\n",
       "    <tr>\n",
       "      <th>1</th>\n",
       "      <td>-4.266610</td>\n",
       "      <td>0.456545</td>\n",
       "      <td>-4.47930</td>\n",
       "      <td>7.273970</td>\n",
       "      <td>-2.821120</td>\n",
       "      <td>-5.71040</td>\n",
       "    </tr>\n",
       "    <tr>\n",
       "      <th>2</th>\n",
       "      <td>-4.212080</td>\n",
       "      <td>-0.651623</td>\n",
       "      <td>18.81210</td>\n",
       "      <td>4.343940</td>\n",
       "      <td>-0.473505</td>\n",
       "      <td>8.79849</td>\n",
       "    </tr>\n",
       "    <tr>\n",
       "      <th>3</th>\n",
       "      <td>-6.326780</td>\n",
       "      <td>-0.268545</td>\n",
       "      <td>3.08025</td>\n",
       "      <td>4.474760</td>\n",
       "      <td>0.848935</td>\n",
       "      <td>-3.23185</td>\n",
       "    </tr>\n",
       "    <tr>\n",
       "      <th>4</th>\n",
       "      <td>0.102966</td>\n",
       "      <td>-5.533080</td>\n",
       "      <td>-4.72122</td>\n",
       "      <td>-0.398831</td>\n",
       "      <td>6.940810</td>\n",
       "      <td>2.28247</td>\n",
       "    </tr>\n",
       "  </tbody>\n",
       "</table>\n",
       "</div>"
      ],
      "text/plain": [
       "        px1       py1       pz1       px2       py2      pz2\n",
       "0 -9.510430  0.366205   1.86329  7.327710 -1.152370  6.34728\n",
       "1 -4.266610  0.456545  -4.47930  7.273970 -2.821120 -5.71040\n",
       "2 -4.212080 -0.651623  18.81210  4.343940 -0.473505  8.79849\n",
       "3 -6.326780 -0.268545   3.08025  4.474760  0.848935 -3.23185\n",
       "4  0.102966 -5.533080  -4.72122 -0.398831  6.940810  2.28247"
      ]
     },
     "execution_count": 2,
     "metadata": {},
     "output_type": "execute_result"
    }
   ],
   "source": [
    "dataset = pd.read_csv('C:\\cern data/newFile.csv')\n",
    "dataset.head()"
   ]
  },
  {
   "cell_type": "markdown",
   "metadata": {},
   "source": [
    "Next, we compute the relativistic energy for particle 1. Pupils might be able to code the formula by themselves with a little: https://www.learnpython.org/en/Basic_Operators or no help (depending on their coding skills).\n",
    "\n",
    "105.7 is the mass of the muon in Mev."
   ]
  },
  {
   "cell_type": "code",
   "execution_count": 3,
   "metadata": {
    "collapsed": true
   },
   "outputs": [],
   "source": [
    "E = ((dataset.px1**2 + dataset.py1**2 + dataset.pz1**2) + (105.7 *10**(-3))**2)**0.5"
   ]
  },
  {
   "cell_type": "markdown",
   "metadata": {
    "collapsed": true
   },
   "source": [
    "Optional // A program that prompts the user to enter value of  'a' - range from 0 to 'a' ; 'b' - amount of bars in the histogram. The 'try' function is going to check if 'a' and 'b' inputs are both integers. If they are, the program is going to proceed. If not, the 'except' function is going to show the message (print ('....')."
   ]
  },
  {
   "cell_type": "code",
   "execution_count": 4,
   "metadata": {},
   "outputs": [
    {
     "name": "stdout",
     "output_type": "stream",
     "text": [
      "Enter the energy range:50\n",
      "Enter the amount of bars:50\n"
     ]
    }
   ],
   "source": [
    "a = raw_input('Enter the energy range:')\n",
    "b = raw_input('Enter the amount of bars:')\n",
    "try:\n",
    "    a = int(a)\n",
    "    b = int(b)\n",
    "except:\n",
    "    print ('Enter whole numbers only')"
   ]
  },
  {
   "cell_type": "markdown",
   "metadata": {},
   "source": [
    "Drawing the histogram (we are using the matplot library previously saved as plt) using the input from the user (a and b). If there is no input from the user, arbitrary values of 'a' and 'b' should be inserted into the plt.hist function."
   ]
  },
  {
   "cell_type": "code",
   "execution_count": 5,
   "metadata": {},
   "outputs": [
    {
     "data": {
      "image/png": "[encoded data removed]",
      "text/plain": [
       "<matplotlib.figure.Figure at 0xa554e10>"
      ]
     },
     "metadata": {},
     "output_type": "display_data"
    }
   ],
   "source": [
    "\n",
    "plt.hist(E, bins = b, range=(0,a))\n",
    "plt.xlabel('Energy')\n",
    "plt.ylabel('Event')\n",
    "plt.title('The histogram of the energy of parrtticle 1')\n",
    "plt.show()"
   ]
  },
  {
   "cell_type": "markdown",
   "metadata": {},
   "source": [
    "Optional // We can to use numpy library saved as 'np' to calculate mean, var (variance),and standard deviation. Task is optional and can be differentiated depending on students' coding skills. If a lot of help is reuired then this link https://github.com/cms-opendata-education/cms-jupyter-materials-english/blob/master/Exercises-with-open-data/Statistics.ipynb is going to go through each function in much detail."
   ]
  },
  {
   "cell_type": "code",
   "execution_count": 6,
   "metadata": {},
   "outputs": [
    {
     "name": "stdout",
     "output_type": "stream",
     "text": [
      "21.9020218685\n"
     ]
    }
   ],
   "source": [
    "mean_energy = np.mean(E)\n",
    "print(mean_energy)"
   ]
  },
  {
   "cell_type": "code",
   "execution_count": 7,
   "metadata": {},
   "outputs": [
    {
     "name": "stdout",
     "output_type": "stream",
     "text": [
      "877.585683437\n"
     ]
    }
   ],
   "source": [
    "variance = np.var(E)\n",
    "print(variance)"
   ]
  },
  {
   "cell_type": "code",
   "execution_count": 8,
   "metadata": {},
   "outputs": [
    {
     "name": "stdout",
     "output_type": "stream",
     "text": [
      "29.6240727017\n"
     ]
    }
   ],
   "source": [
    "sd = np.sqrt(variance)\n",
    "print(sd)"
   ]
  },
  {
   "cell_type": "markdown",
   "metadata": {},
   "source": [
    "Next, we are going to compare the calculated energy of particle 1 and 2 with the results from CERN. We read the 'energy_compare.csv' file and save it as compare."
   ]
  },
  {
   "cell_type": "code",
   "execution_count": 9,
   "metadata": {},
   "outputs": [],
   "source": [
    "compare = pd.read_csv('C:\\cern data/energy_compare.csv')\n"
   ]
  },
  {
   "cell_type": "markdown",
   "metadata": {},
   "source": [
    "Below, we subtract the table value of energy from the calculated data."
   ]
  },
  {
   "cell_type": "code",
   "execution_count": 10,
   "metadata": {
    "collapsed": true
   },
   "outputs": [],
   "source": [
    "Compare = E - compare.E1\n"
   ]
  },
  {
   "cell_type": "markdown",
   "metadata": {},
   "source": [
    "Next, we plot a histogram of the differences. \n",
    "\n",
    "Optional// We can make a smilar user-input function as before and ask pupils to find where the values are."
   ]
  },
  {
   "cell_type": "code",
   "execution_count": 11,
   "metadata": {},
   "outputs": [
    {
     "data": {
      "image/png": "[encoded data removed]",
      "text/plain": [
       "<matplotlib.figure.Figure at 0xa8d1a58>"
      ]
     },
     "metadata": {},
     "output_type": "display_data"
    }
   ],
   "source": [
    "plt.hist(Compare, bins = 100, range=(0,0.00000001))\n",
    "plt.xlabel('Difference between calculated and laboratory energies')\n",
    "plt.ylabel('Events')\n",
    "plt.title('The histogram of the energy of parrtticle 1')\n",
    "plt.show()"
   ]
  },
  {
   "cell_type": "markdown",
   "metadata": {},
   "source": [
    "Task can be repeated for the second particle. Comprarision of table/ calculated energy can be made using a line graph as a coding challenge."
   ]
  }
 ],
 "metadata": {
  "kernelspec": {
   "display_name": "Python 2",
   "language": "python",
   "name": "python2"
  },
  "language_info": {
   "codemirror_mode": {
    "name": "ipython",
    "version": 2
   },
   "file_extension": ".py",
   "mimetype": "text/x-python",
   "name": "python",
   "nbconvert_exporter": "python",
   "pygments_lexer": "ipython2",
   "version": "2.7.13"
  }
 },
 "nbformat": 4,
 "nbformat_minor": 2
}
